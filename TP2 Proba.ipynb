{
 "cells": [
  {
   "cell_type": "markdown",
   "metadata": {},
   "source": [
    "# Simulation du jeux de LIDO simplifié"
   ]
  },
  {
   "cell_type": "markdown",
   "metadata": {},
   "source": [
    "## Principe\n",
    "On considére un jeux de Lido simple:\n",
    "on dispose d'un un seul pion.\n",
    "\n",
    "- Etape 0 :\n",
    "Le pion doit sort de sa prison lorsqu'on obtient un 6.\n",
    "\n",
    "- Etape 1 :\n",
    "Le pion doit atteindre exactement une position cible situé à N pas de distance de sa prison \n",
    "\n",
    "Soit $X_n$ la variable aléatoire qui represente le nombre de coup nécéssaire pour atteindre la positions cible.\n",
    "\n",
    "**Objectif 1** : Simuler le jeux \n",
    "\n",
    "**Objectif 2** : Calculer une estimation de l'éspérance mathématique de $X_n$ en utilisant `python`\n",
    "\n",
    "**Objéctif 3** : Observer la variation de $\\mathbb{E}(X_n)$ en fonction de $n$\n",
    "\n",
    "<img src=\"LIDO.png\">\n"
   ]
  },
  {
   "cell_type": "code",
   "execution_count": 16,
   "metadata": {},
   "outputs": [],
   "source": [
    "import numpy as np"
   ]
  },
  {
   "cell_type": "markdown",
   "metadata": {},
   "source": [
    "### Simulation du lancé de dé"
   ]
  },
  {
   "cell_type": "code",
   "execution_count": 17,
   "metadata": {},
   "outputs": [],
   "source": [
    "def Roll(): #fonction qui retourne un entier p\n",
    "    return int(np.random.choice(range(1,7)))"
   ]
  },
  {
   "cell_type": "code",
   "execution_count": 18,
   "metadata": {},
   "outputs": [
    {
     "name": "stdout",
     "output_type": "stream",
     "text": [
      "4\n",
      "3\n",
      "3\n",
      "6\n",
      "5\n",
      "1\n",
      "5\n",
      "6\n",
      "1\n",
      "3\n"
     ]
    }
   ],
   "source": [
    "for i in range(10) : \n",
    "    print(Roll())"
   ]
  },
  {
   "cell_type": "markdown",
   "metadata": {},
   "source": [
    "### Compléter le code et commenter"
   ]
  },
  {
   "cell_type": "code",
   "execution_count": 19,
   "metadata": {
    "scrolled": false
   },
   "outputs": [
    {
     "name": "stdout",
     "output_type": "stream",
     "text": [
      "Vous etes a la position : 0 La valeur du dé : 3 Compteur : 1\n",
      "Vous etes a la position : 0 La valeur du dé : 4 Compteur : 2\n",
      "Vous etes a la position : 0 La valeur du dé : 3 Compteur : 3\n",
      "Vous etes a la position : 0 La valeur du dé : 2 Compteur : 4\n",
      "Vous etes a la position : 0 La valeur du dé : 4 Compteur : 5\n",
      "Vous etes a la position : 0 La valeur du dé : 1 Compteur : 6\n",
      "Vous etes a la position : 0 La valeur du dé : 2 Compteur : 7\n",
      "Vous etes a la position : 0 La valeur du dé : 5 Compteur : 8\n",
      "Vous etes a la position : 0 La valeur du dé : 4 Compteur : 9\n",
      "Vous etes a la position : 1 La valeur du dé : 6 Compteur : 10\n",
      "Vous etes a la position : 5 La valeur du dé : 4 Compteur : 11\n",
      "Vous etes a la position : 7 La valeur du dé : 2 Compteur : 12\n",
      "Vous etes a la position : 8 La valeur du dé : 1 Compteur : 13\n",
      "Vous etes a la position : 8 La valeur du dé : 4 Compteur : 14\n",
      "Vous etes a la position : 8 La valeur du dé : 3 Compteur : 15\n",
      "Vous etes a la position : 8 La valeur du dé : 6 Compteur : 16\n",
      "Vous etes a la position : 10 La valeur du dé : 2 Compteur : 17\n"
     ]
    }
   ],
   "source": [
    "A=0 #la position\n",
    "NA=0 # la valeur indiquée par le dé\n",
    "S=10 #position de la cible\n",
    "c=0 #le compteur\n",
    "while (A<S) :\n",
    "    NA =Roll()\n",
    "    if NA==6 and A==0 :\n",
    "        c+=1\n",
    "        A=1\n",
    "        print('Vous etes a la position :',A,'La valeur du dé :',NA,'Compteur :',c)\n",
    "    elif A>0 and NA+A<S :\n",
    "        A+=NA\n",
    "        c+=1\n",
    "        print('Vous etes a la position :',A,'La valeur du dé :',NA,'Compteur :',c)\n",
    "    elif NA+A==S :\n",
    "        c+=1\n",
    "        A=S\n",
    "        print('Vous etes a la position :',A,'La valeur du dé :',NA,'Compteur :',c)\n",
    "        break\n",
    "    else :\n",
    "        c+=1\n",
    "        print('Vous etes a la position :',A,'La valeur du dé :',NA,'Compteur :',c)"
   ]
  },
  {
   "cell_type": "markdown",
   "metadata": {},
   "source": [
    "### Simulation\n",
    "Ecrire une foction `sim` qui simule le jeux et qui prend comme variable le nombre de pas $n$ nécessazire pour atteindre la cible"
   ]
  },
  {
   "cell_type": "code",
   "execution_count": 20,
   "metadata": {},
   "outputs": [],
   "source": [
    "def sim(S):\n",
    "    A=0 #la position\n",
    "    NA=0 # la valeur indiquée par le dé\n",
    "    c=0 #le compteur\n",
    "    while (A<S) :\n",
    "        NA =Roll()\n",
    "        if NA==6 and A==0 :\n",
    "            c+=1\n",
    "            A=1\n",
    "        elif A>0 and NA+A<S :\n",
    "            A+=NA\n",
    "            c+=1\n",
    "        elif NA+A==S :\n",
    "            c+=1\n",
    "            A=S\n",
    "            break\n",
    "        else :\n",
    "            c+=1\n",
    "    return c\n",
    "    "
   ]
  },
  {
   "cell_type": "code",
   "execution_count": 21,
   "metadata": {},
   "outputs": [
    {
     "data": {
      "text/plain": [
       "15"
      ]
     },
     "execution_count": 21,
     "metadata": {},
     "output_type": "execute_result"
    }
   ],
   "source": [
    "sim(20)"
   ]
  },
  {
   "cell_type": "markdown",
   "metadata": {},
   "source": [
    "### Simulation de $10^5$  scénario "
   ]
  },
  {
   "cell_type": "code",
   "execution_count": 22,
   "metadata": {},
   "outputs": [
    {
     "name": "stdout",
     "output_type": "stream",
     "text": [
      "30\n",
      "18\n",
      "15\n",
      "15\n",
      "25\n",
      "9\n",
      "8\n",
      "8\n",
      "21\n",
      "19\n"
     ]
    }
   ],
   "source": [
    "for i in range(10):\n",
    "    print(sim(20))"
   ]
  },
  {
   "cell_type": "code",
   "execution_count": 23,
   "metadata": {},
   "outputs": [
    {
     "data": {
      "text/plain": [
       "14.7276"
      ]
     },
     "execution_count": 23,
     "metadata": {},
     "output_type": "execute_result"
    }
   ],
   "source": [
    "E=10000\n",
    "N=15\n",
    "L=[]\n",
    "for i in range(E):\n",
    "    L.append(sim(N))\n",
    "def moyenne(L):\n",
    "    tot=0\n",
    "    for u in L:\n",
    "        tot=tot+u\n",
    "    return tot/len(L)\n",
    "moyenne(L)"
   ]
  },
  {
   "cell_type": "markdown",
   "metadata": {},
   "source": [
    "<h1>Conclusion :</h1> on joue le lido E nombre de fois pour atteindre une cible N =15 en moyenne on a besoin de 14 coup pour finir le jeu."
   ]
  },
  {
   "cell_type": "code",
   "execution_count": 24,
   "metadata": {},
   "outputs": [],
   "source": [
    "Freq=np.fromiter((sim(20) for i in range(10**5)),dtype=int)"
   ]
  },
  {
   "cell_type": "code",
   "execution_count": 25,
   "metadata": {},
   "outputs": [],
   "source": [
    "ESP=Freq.sum()/10**5"
   ]
  },
  {
   "cell_type": "code",
   "execution_count": 26,
   "metadata": {},
   "outputs": [],
   "source": [
    "x=list(range(10,20))"
   ]
  },
  {
   "cell_type": "code",
   "execution_count": 27,
   "metadata": {},
   "outputs": [],
   "source": [
    "y=[np.fromiter((sim(u) for i in range(5*10**4)),dtype=int).sum()/50000 for u in x]"
   ]
  },
  {
   "cell_type": "code",
   "execution_count": 28,
   "metadata": {},
   "outputs": [],
   "source": [
    "import matplotlib.pyplot as plt\n",
    "xx=np.linspace(10,20,50)\n",
    "yy=0.33709890909090906*xx+12.150573818181819"
   ]
  },
  {
   "cell_type": "code",
   "execution_count": 29,
   "metadata": {},
   "outputs": [
    {
     "data": {
      "text/plain": [
       "[<matplotlib.lines.Line2D at 0x16ca5382df0>]"
      ]
     },
     "execution_count": 29,
     "metadata": {},
     "output_type": "execute_result"
    },
    {
     "data": {
      "image/png": "[encoded data removed]",
      "text/plain": [
       "<Figure size 432x288 with 1 Axes>"
      ]
     },
     "metadata": {
      "needs_background": "light"
     },
     "output_type": "display_data"
    }
   ],
   "source": [
    "plt.plot(x,y,'b*')\n",
    "plt.plot(xx,yy,'r')"
   ]
  },
  {
   "cell_type": "code",
   "execution_count": 30,
   "metadata": {},
   "outputs": [],
   "source": [
    "from scipy import stats\n",
    "import numpy as np\n",
    "slope, intercept, r_value, p_value, std_err = stats.linregress(x,y)"
   ]
  },
  {
   "cell_type": "code",
   "execution_count": 31,
   "metadata": {},
   "outputs": [
    {
     "data": {
      "text/plain": [
       "0.28292630303030314"
      ]
     },
     "execution_count": 31,
     "metadata": {},
     "output_type": "execute_result"
    }
   ],
   "source": [
    "slope"
   ]
  },
  {
   "cell_type": "code",
   "execution_count": 32,
   "metadata": {},
   "outputs": [
    {
     "data": {
      "text/plain": [
       "10.516740606060605"
      ]
     },
     "execution_count": 32,
     "metadata": {},
     "output_type": "execute_result"
    }
   ],
   "source": [
    "intercept\n",
    "#b"
   ]
  },
  {
   "cell_type": "markdown",
   "metadata": {},
   "source": [
    "<u><h1 style=\"color:red;\">Conclusion :</h1></u>\n",
    "$$\\mathbb{E}(X_n)=0.329\\times n + 12.280$$\n",
    "<br>la fonction d'une droite lineaire affine"
   ]
  },
  {
   "cell_type": "code",
   "execution_count": null,
   "metadata": {},
   "outputs": [],
   "source": []
  }
 ],
 "metadata": {
  "kernelspec": {
   "display_name": "Python 3",
   "language": "python",
   "name": "python3"
  },
  "language_info": {
   "codemirror_mode": {
    "name": "ipython",
    "version": 3
   },
   "file_extension": ".py",
   "mimetype": "text/x-python",
   "name": "python",
   "nbconvert_exporter": "python",
   "pygments_lexer": "ipython3",
   "version": "3.8.5"
  }
 },
 "nbformat": 4,
 "nbformat_minor": 4
}
